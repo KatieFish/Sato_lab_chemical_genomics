{
 "cells": [
  {
   "cell_type": "markdown",
   "metadata": {},
   "source": [
    "## Manually calculate the LogFC for each replicate with it's controls\n",
    "\n",
    "### This will create a table with each replicates replicate having a column.\n",
    "### If we have 3 replicates for a chemical and 2 controls the output will have 3 columns one for each\n",
    "### replicate containing the log2FC manually calculated by \n",
    "\n",
    "### log2FC = log2(  (chemical count)/(average control count) )\n",
    "\n",
    "### Only significant gene values will be retained. Significance measurement comes from the EdgeR FDR score.\n",
    "### If only one control has counts that will be used instead of the average of the counts\n",
    "\n",
    "\n",
    "Nov. 6th 2019 "
   ]
  },
  {
   "cell_type": "code",
   "execution_count": null,
   "metadata": {},
   "outputs": [],
   "source": [
    "import glob\n",
    "import math\n",
    "import os\n",
    "import pandas as pd\n",
    "import re\n",
    "\n",
    "# read in the experiment information\n",
    "sampleFile = '/mnt/4a00c042-1850-4128-bf06-17c0406f98ad/projects/glbrcChemicalGenomics/Nov_12_2018/YeastChemGen003-008_BarcodesToConditions_111718.csv'"
   ]
  },
  {
   "cell_type": "markdown",
   "metadata": {},
   "source": [
    "### Get the sample and control matching information"
   ]
  },
  {
   "cell_type": "code",
   "execution_count": null,
   "metadata": {},
   "outputs": [],
   "source": [
    "# get experiment information \n",
    "seqID = {}        # dictionary to hold experiment information\n",
    "\n",
    "with open(sampleFile, 'r') as f:\n",
    "    f.readline()                                                   # skip header\n",
    "    for line in f:\n",
    "        sample = line.rstrip().split('\\t')\n",
    "        chemical      = re.sub(r'\\W','',sample[4])                 # remove all word char\n",
    "        experiment    = re.sub(r'\\W', '', sample[1])\n",
    "        sampleBarcode = sample[6]                                  # looks like \"GACAGTTGAC\"\n",
    "        experimentKey = experiment + '_' + chemical + '.' + sampleBarcode   \n",
    "               \n",
    "        if 'ctrl' in chemical:\n",
    "            continue\n",
    "        else:          \n",
    "            if experimentKey not in seqID:             # track barcode\n",
    "                    seqID[experimentKey] = []     \n",
    "                    seqID[experimentKey].append(sample[7]) # add control 1\n",
    "                    seqID[experimentKey].append(sample[8]) # add control 2\n",
    "            else:\n",
    "                print('Duplicate barcode for {}  {}'.format(experimentKey, sampleBarcode))  # no duplicate BC's allowed\n",
    "\n",
    "# get number of significant genes, this file has chemical name and the number of significant genes \n",
    "cntLst = []\n",
    "with open('../significant_gene_count_by_sample.csv', 'r') as f:\n",
    "    f.readline()\n",
    "    for ln in f:\n",
    "        nLst = ln.rstrip().split('\\t')\n",
    "        nLst[1] = int(nLst[1])               \n",
    "        cntLst.append(tuple(nLst))       \n",
    "\n",
    "f.close()\n",
    "\n",
    "# order the list of tuples (chemicalname, numSignificantGenes) from lowest to highest\n",
    "orderedCntLst = sorted(cntLst, key=lambda tup: tup[1])\n"
   ]
  },
  {
   "cell_type": "code",
   "execution_count": null,
   "metadata": {},
   "outputs": [],
   "source": [
    "# add these manually as they were processed separately\n",
    "seqID['ChemGen005_MMS-A.AGAGCGTTCT'] = ['ChemGen005_ctrl_1', 'ChemGen005_ctrl_3']\n",
    "seqID['ChemGen006_MMS-BC.GCTAGTCACT'] = ['ChemGen006_ctrl_1', 'ChemGen006_ctrl_2']\n",
    "seqID['ChemGen006_MMS-BC.TAACCGGTAG'] = ['ChemGen006_ctrl_1', 'ChemGen006_ctrl_2']\n",
    "\n",
    "seqID['ChemGen006_QUADRIS1.AGGCTTGACT'] = ['ChemGen006_ctrl_1','ChemGen006_ctrl_2']\n",
    "seqID['ChemGen006_QUADRIS1.GGCGATATCA'] = ['ChemGen006_ctrl_1','ChemGen006_ctrl_2']\n",
    "seqID['ChemGen006_QUADRIS1.TACAACGGTC'] = ['ChemGen006_ctrl_1','ChemGen006_ctrl_2']\n",
    "\n",
    "seqID['ChemGen006_QUADRIS2.AGCTTGCGAA'] = ['ChemGen006_ctrl_1','ChemGen006_ctrl_2']\n",
    "seqID['ChemGen006_QUADRIS2.GTTGTGAACC'] = ['ChemGen006_ctrl_1','ChemGen006_ctrl_2']\n",
    "seqID['ChemGen006_QUADRIS2.TCAGTGCATG'] = ['ChemGen006_ctrl_1','ChemGen006_ctrl_2']"
   ]
  },
  {
   "cell_type": "markdown",
   "metadata": {},
   "source": [
    "### Get the list of significant genes for each chemical\n",
    "#### put in dictionary significantGenes"
   ]
  },
  {
   "cell_type": "code",
   "execution_count": null,
   "metadata": {},
   "outputs": [],
   "source": [
    "sigFile = \"/home/mplace/projects/glbrcChemicalGenomics/Nov_12_2018/edgeR_significantGenes\"\n",
    "os.chdir(sigFile)        # move to directory with significant gene list \n",
    "\n",
    "significantGenes = {}    # key = chemical name, value = list of significant genes\n",
    "\n",
    "# loop through significant gene files\n",
    "for sig in glob.glob(\"*_genelist.txt\"):\n",
    "    with open(sig, 'r') as f:\n",
    "        chemName = re.sub('_genelist.txt', '', sig)   # extract chemical name\n",
    "        significantGenes[chemName] = []               # create a list in dictionary\n",
    "        for gene in f:\n",
    "            gene = gene.rstrip()\n",
    "            significantGenes[chemName].append(gene)   # add every gene name to list\n",
    "    f.close()"
   ]
  },
  {
   "cell_type": "code",
   "execution_count": null,
   "metadata": {},
   "outputs": [],
   "source": [
    "# read in Normalized data, this data was normalized in edgeR as a single table\n",
    "os.chdir('/home/mplace/projects/glbrcChemicalGenomics/Nov_12_2018/calcNormTest')\n",
    "data = pd.read_csv('dataEdgeR_normalized.csv', index_col = 0, sep=\"\\t\")"
   ]
  },
  {
   "cell_type": "code",
   "execution_count": null,
   "metadata": {},
   "outputs": [],
   "source": [
    "#math.log(x.iloc[0]/((sum(x[1:3]))/2),2)\n",
    "def log2FC(row):\n",
    "    # if chemical count is zero\n",
    "    if row[0] == 0:\n",
    "        return \"NA\"\n",
    "    # if both controls are zero\n",
    "    if row[1] == 0 and row[2] == 0:    \n",
    "        return \"NA\"\n",
    "    # if first control is zero\n",
    "    elif row[1] == 0:      \n",
    "        return math.log(row[0]/row[2], 2)\n",
    "    # if second control is zero\n",
    "    elif row[2] == 0:\n",
    "        return math.log(row[0]/row[1], 2)\n",
    "    # situaltion normal \n",
    "    else:\n",
    "        return math.log(row[0]/((row[1] + row[2])/2), 2)"
   ]
  },
  {
   "cell_type": "code",
   "execution_count": null,
   "metadata": {},
   "outputs": [],
   "source": [
    "# this step takes a minute or two\n",
    "dfLst = []   # hold a list of single column dataframes with the log2 ratio\n",
    "for k in seqID.keys():\n",
    "    chemName = k.split('.')[0]\n",
    "    name     = chemName.split('_')[1]\n",
    "    pattern = '{}|{}|{}'.format(k, seqID[k][0], seqID[k][1])   # get the chemgen00#_chemialname and controls\n",
    "    tmpDF = data.filter(regex=pattern)  # search for the correct 3 columns\n",
    "    tmpDF = tmpDF.loc[significantGenes[name]]\n",
    "    # calculate the log2 of the replicate/(Avg of control counts)\n",
    "    # skip chemicals that have no significant genes\n",
    "    if len(tmpDF) != 0:\n",
    "        tmpDF[ chemName + '_log2_ratio'] = tmpDF.apply(log2FC, axis=1)\n",
    "        dfLst.append(tmpDF[chemName + '_log2_ratio'])\n",
    "        #dfLst.append(tmpDF)\n",
    "    \n",
    "# join data frames\n",
    "result = pd.concat(dfLst, axis=1, sort=True)\n",
    "\n",
    "result.to_csv('log2FC_output_test.csv')"
   ]
  },
  {
   "cell_type": "code",
   "execution_count": null,
   "metadata": {},
   "outputs": [],
   "source": [
    "# need to reorder the columns from lowest number of significant genes to highest \n",
    "columnOrder = []        # lowest to highest number of significant genes\n",
    "for chem in orderedCntLst:\n",
    "    columnOrder.append(chem[0])\n",
    "\n",
    "# get current experiment name header information\n",
    "resultHeader = list(result.columns)"
   ]
  },
  {
   "cell_type": "code",
   "execution_count": null,
   "metadata": {},
   "outputs": [],
   "source": [
    "# reorder column names by match chemGen00#_name to the ordered chemical name in  columnOrder\n",
    "newColumnOrder = []\n",
    "for word in columnOrder:\n",
    "    pattern = r'ChemGen00\\d_' + re.escape(word) + '_log2_ratio'\n",
    "    for col in resultHeader:\n",
    "        match = re.search(pattern, col, re.IGNORECASE)   \n",
    "        if match:\n",
    "            newColumnOrder.append(match.group())\n",
    "newColumnOrder\n",
    "\n",
    "            \n",
    "# apply the column order to get a new dataframe\n",
    "outputDF = result[newColumnOrder]\n",
    "\n",
    "# write to file\n",
    "#FOR SOME REASON A FEW COLUMNS ARE DUPLICATED? CLEANED UP MANUALLY\n",
    "outputDF.to_csv('log2FC_data.csv', sep='\\t', na_rep = \"NA\")"
   ]
  },
  {
   "cell_type": "code",
   "execution_count": null,
   "metadata": {},
   "outputs": [],
   "source": [
    "# read in the log2FC_data.csv, then subset data by positive and negative\n",
    "# write positive and negative log2FC values to separate files.\n",
    "lgFC = pd.read_csv('log2FC_data.csv', index_col = 0, sep=\"\\t\")\n",
    "\n",
    "positive = lgFC[lgFC > 0]                                             # select all values greater than zero\n",
    "positive.fillna(value=\"NA\", inplace=True)\n",
    "positive.to_csv('log2FC_positive_data.csv', sep='\\t', na_rep=\"NA\")\n",
    "negative = lgFC[lgFC < 0]\n",
    "negative.fillna(value=\"NA\", inplace=True)\n",
    "negative.to_csv('log2FC_negative_data.csv', sep='\\t', na_rep=\"NA\")"
   ]
  }
 ],
 "metadata": {
  "kernelspec": {
   "display_name": "Python 3",
   "language": "python",
   "name": "python3"
  },
  "language_info": {
   "codemirror_mode": {
    "name": "ipython",
    "version": 3
   },
   "file_extension": ".py",
   "mimetype": "text/x-python",
   "name": "python",
   "nbconvert_exporter": "python",
   "pygments_lexer": "ipython3",
   "version": "3.7.3"
  }
 },
 "nbformat": 4,
 "nbformat_minor": 2
}
